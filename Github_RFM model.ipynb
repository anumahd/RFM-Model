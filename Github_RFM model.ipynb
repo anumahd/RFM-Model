{
 "cells": [
  {
   "cell_type": "markdown",
   "id": "46481b02",
   "metadata": {},
   "source": [
    "# RFM (Recency, Frequency, Monetry values of Customers)"
   ]
  },
  {
   "cell_type": "markdown",
   "id": "c209dab8",
   "metadata": {},
   "source": [
    "<img src=\"RFM.jpg\" alt=\"rfm\" width=\"500\" height=300/>"
   ]
  },
  {
   "cell_type": "markdown",
   "id": "65e0e007",
   "metadata": {},
   "source": [
    "Every business is customer focus and every CEO looking to make the best of their business wants to keep loyal customers and stop  not so loyal customers from leaving. RFM becomes important as it helps segment customers into those who are loyal, needs attention and most importantly, customers who you just cant loose.\n",
    "\n",
    "RFM can be used with customer churn analysis or on its own. I have a data set from adventure works for this project (rather than using a generic one or actual data I had worked on) This data was the cosest thing I could find to real world use and it involve the use of SQL to trim down the data before any analysis."
   ]
  },
  {
   "cell_type": "code",
   "execution_count": 1,
   "id": "678bcdea",
   "metadata": {},
   "outputs": [],
   "source": [
    "import pyodbc # for commecting to sql\n",
    "import pandas as pd\n",
    "import numpy as np\n",
    "from datetime import datetime, timedelta\n",
    "from datetime import date\n",
    "from matplotlib import dates as dates\n",
    "import datetime as dt\n",
    "import pyodbc\n",
    "import pandas as pd\n",
    "import numpy as np\n",
    "from matplotlib import pyplot as plt\n",
    "from matplotlib import rcParams\n",
    "from plotly.offline import iplot\n",
    "import plotly.graph_objects as go\n",
    "import plotly.figure_factory as ff\n",
    "from plotly.subplots import make_subplots\n",
    "import seaborn as sns\n",
    "import random"
   ]
  },
  {
   "cell_type": "code",
   "execution_count": 2,
   "id": "ae40cd21",
   "metadata": {},
   "outputs": [],
   "source": [
    "import squarify"
   ]
  },
  {
   "cell_type": "code",
   "execution_count": 3,
   "id": "e1653e5a",
   "metadata": {},
   "outputs": [
    {
     "name": "stderr",
     "output_type": "stream",
     "text": [
      "C:\\Users\\anuma\\AppData\\Local\\Temp\\ipykernel_10512\\1937802191.py:7: UserWarning:\n",
      "\n",
      "pandas only supports SQLAlchemy connectable (engine/connection) or database string URI or sqlite3 DBAPI2 connection. Other DBAPI2 objects are not tested. Please consider using SQLAlchemy.\n",
      "\n"
     ]
    }
   ],
   "source": [
    "#getting more features form sql\n",
    "conn = pyodbc.connect('Driver={SQL Server};'\n",
    "'Server=DESKTOP-******;'\n",
    "'Database=AdventureWorksDW2017;'\n",
    "'Trusted_Connection=yes;')\n",
    "sql_for_df = \"select CustomerKey,SalesOrderNumber,SalesAmount,ProductStandardCost,OrderQuantity, SalesAmount-ProductStandardCost as Profit, OrderDate from dbo.FactInternetSales\"\n",
    "sale = pd.read_sql(sql_for_df , conn)\n",
    "conn.close()"
   ]
  },
  {
   "cell_type": "code",
   "execution_count": 4,
   "id": "70c20bb5",
   "metadata": {},
   "outputs": [
    {
     "data": {
      "text/html": [
       "<div>\n",
       "<style scoped>\n",
       "    .dataframe tbody tr th:only-of-type {\n",
       "        vertical-align: middle;\n",
       "    }\n",
       "\n",
       "    .dataframe tbody tr th {\n",
       "        vertical-align: top;\n",
       "    }\n",
       "\n",
       "    .dataframe thead th {\n",
       "        text-align: right;\n",
       "    }\n",
       "</style>\n",
       "<table border=\"1\" class=\"dataframe\">\n",
       "  <thead>\n",
       "    <tr style=\"text-align: right;\">\n",
       "      <th></th>\n",
       "      <th>CustomerKey</th>\n",
       "      <th>SalesOrderNumber</th>\n",
       "      <th>SalesAmount</th>\n",
       "      <th>ProductStandardCost</th>\n",
       "      <th>OrderQuantity</th>\n",
       "      <th>Profit</th>\n",
       "      <th>OrderDate</th>\n",
       "    </tr>\n",
       "  </thead>\n",
       "  <tbody>\n",
       "    <tr>\n",
       "      <th>0</th>\n",
       "      <td>21768</td>\n",
       "      <td>SO43697</td>\n",
       "      <td>3578.2700</td>\n",
       "      <td>2171.2942</td>\n",
       "      <td>1</td>\n",
       "      <td>1406.9758</td>\n",
       "      <td>2010-12-29</td>\n",
       "    </tr>\n",
       "    <tr>\n",
       "      <th>1</th>\n",
       "      <td>28389</td>\n",
       "      <td>SO43698</td>\n",
       "      <td>3399.9900</td>\n",
       "      <td>1912.1544</td>\n",
       "      <td>1</td>\n",
       "      <td>1487.8356</td>\n",
       "      <td>2010-12-29</td>\n",
       "    </tr>\n",
       "    <tr>\n",
       "      <th>2</th>\n",
       "      <td>25863</td>\n",
       "      <td>SO43699</td>\n",
       "      <td>3399.9900</td>\n",
       "      <td>1912.1544</td>\n",
       "      <td>1</td>\n",
       "      <td>1487.8356</td>\n",
       "      <td>2010-12-29</td>\n",
       "    </tr>\n",
       "    <tr>\n",
       "      <th>3</th>\n",
       "      <td>14501</td>\n",
       "      <td>SO43700</td>\n",
       "      <td>699.0982</td>\n",
       "      <td>413.1463</td>\n",
       "      <td>1</td>\n",
       "      <td>285.9519</td>\n",
       "      <td>2010-12-29</td>\n",
       "    </tr>\n",
       "    <tr>\n",
       "      <th>4</th>\n",
       "      <td>11003</td>\n",
       "      <td>SO43701</td>\n",
       "      <td>3399.9900</td>\n",
       "      <td>1912.1544</td>\n",
       "      <td>1</td>\n",
       "      <td>1487.8356</td>\n",
       "      <td>2010-12-29</td>\n",
       "    </tr>\n",
       "  </tbody>\n",
       "</table>\n",
       "</div>"
      ],
      "text/plain": [
       "   CustomerKey SalesOrderNumber  SalesAmount  ProductStandardCost  \\\n",
       "0        21768          SO43697    3578.2700            2171.2942   \n",
       "1        28389          SO43698    3399.9900            1912.1544   \n",
       "2        25863          SO43699    3399.9900            1912.1544   \n",
       "3        14501          SO43700     699.0982             413.1463   \n",
       "4        11003          SO43701    3399.9900            1912.1544   \n",
       "\n",
       "   OrderQuantity     Profit  OrderDate  \n",
       "0              1  1406.9758 2010-12-29  \n",
       "1              1  1487.8356 2010-12-29  \n",
       "2              1  1487.8356 2010-12-29  \n",
       "3              1   285.9519 2010-12-29  \n",
       "4              1  1487.8356 2010-12-29  "
      ]
     },
     "execution_count": 4,
     "metadata": {},
     "output_type": "execute_result"
    }
   ],
   "source": [
    "sale.head() #data containg sales and orders from costomers from SQL"
   ]
  },
  {
   "cell_type": "code",
   "execution_count": 7,
   "id": "ec56e66a",
   "metadata": {},
   "outputs": [
    {
     "data": {
      "text/plain": [
       "CustomerKey                     int64\n",
       "SalesOrderNumber               object\n",
       "SalesAmount                   float64\n",
       "ProductStandardCost           float64\n",
       "OrderQuantity                   int64\n",
       "Profit                        float64\n",
       "OrderDate              datetime64[ns]\n",
       "dtype: object"
      ]
     },
     "execution_count": 7,
     "metadata": {},
     "output_type": "execute_result"
    }
   ],
   "source": [
    "sale.dtypes"
   ]
  },
  {
   "cell_type": "code",
   "execution_count": 8,
   "id": "fad1a086",
   "metadata": {},
   "outputs": [
    {
     "data": {
      "text/plain": [
       "CustomerKey            0\n",
       "SalesOrderNumber       0\n",
       "SalesAmount            0\n",
       "ProductStandardCost    0\n",
       "OrderQuantity          0\n",
       "Profit                 0\n",
       "OrderDate              0\n",
       "dtype: int64"
      ]
     },
     "execution_count": 8,
     "metadata": {},
     "output_type": "execute_result"
    }
   ],
   "source": [
    "sale.isnull().sum() #cheaking for null values"
   ]
  },
  {
   "cell_type": "code",
   "execution_count": 9,
   "id": "51a1a742",
   "metadata": {},
   "outputs": [
    {
     "data": {
      "text/plain": [
       "(60398, 7)"
      ]
     },
     "execution_count": 9,
     "metadata": {},
     "output_type": "execute_result"
    }
   ],
   "source": [
    "sale.shape"
   ]
  },
  {
   "cell_type": "code",
   "execution_count": 10,
   "id": "0bab9a3f",
   "metadata": {},
   "outputs": [
    {
     "name": "stdout",
     "output_type": "stream",
     "text": [
      "2014-01-29 00:00:00\n"
     ]
    }
   ],
   "source": [
    "# --Group data by customerKey--\n",
    "# Create TotalSum column for salesamountt\n",
    "sale['TotalSum'] = sale['OrderQuantity'] * sale['SalesAmount']\n",
    "\n",
    "# Create snapshot date\n",
    "snapshot_date =sale['OrderDate'].max() + timedelta(days=1)\n",
    "print(snapshot_date)\n",
    "\n",
    "# Grouping by CustomerID\n",
    "df =sale.groupby(['CustomerKey']).agg({\n",
    "        'OrderDate': lambda x: (snapshot_date - x.max()).days,\n",
    "        'SalesOrderNumber': 'count',\n",
    "        'TotalSum': 'sum'})\n",
    "\n",
    "# Rename the columns \n",
    "df.rename(columns={'OrderDate': 'Recency',\n",
    "                         'SalesOrderNumber': 'Frequency',\n",
    "                         'TotalSum': 'MonetaryValue'}, inplace=True)"
   ]
  },
  {
   "cell_type": "code",
   "execution_count": 13,
   "id": "185c0611",
   "metadata": {},
   "outputs": [
    {
     "name": "stdout",
     "output_type": "stream",
     "text": [
      "             Recency  Frequency  MonetaryValue\n",
      "CustomerKey                                   \n",
      "11000            271          8        8248.99\n",
      "11001             50         11        6383.88\n",
      "11002            340          4        8114.04\n",
      "11003            264          9        8139.29\n",
      "11004            273          6        8196.01\n",
      "18,484 rows; 3 columns\n"
     ]
    }
   ],
   "source": [
    "# Print top 5 rows and shape of dataframe\n",
    "print(df.head())\n",
    "print('{:,} rows; {:,} columns'\n",
    "      .format(df.shape[0], df.shape[1]))"
   ]
  },
  {
   "cell_type": "code",
   "execution_count": 14,
   "id": "8efa7a70",
   "metadata": {},
   "outputs": [],
   "source": [
    "# now we have grouped every customer and know how oftrnthey visit, when last they visited and how much they have spent"
   ]
  },
  {
   "cell_type": "code",
   "execution_count": 15,
   "id": "f47b5074",
   "metadata": {},
   "outputs": [
    {
     "name": "stderr",
     "output_type": "stream",
     "text": [
      "C:\\Users\\anuma\\AppData\\Local\\Temp\\ipykernel_10512\\1129273297.py:4: UserWarning:\n",
      "\n",
      "\n",
      "\n",
      "`distplot` is a deprecated function and will be removed in seaborn v0.14.0.\n",
      "\n",
      "Please adapt your code to use either `displot` (a figure-level function with\n",
      "similar flexibility) or `histplot` (an axes-level function for histograms).\n",
      "\n",
      "For a guide to updating your code to use the new functions, please see\n",
      "https://gist.github.com/mwaskom/de44147ed2974457ad6372750bbe5751\n",
      "\n",
      "\n",
      "C:\\Users\\anuma\\AppData\\Local\\Temp\\ipykernel_10512\\1129273297.py:6: UserWarning:\n",
      "\n",
      "\n",
      "\n",
      "`distplot` is a deprecated function and will be removed in seaborn v0.14.0.\n",
      "\n",
      "Please adapt your code to use either `displot` (a figure-level function with\n",
      "similar flexibility) or `histplot` (an axes-level function for histograms).\n",
      "\n",
      "For a guide to updating your code to use the new functions, please see\n",
      "https://gist.github.com/mwaskom/de44147ed2974457ad6372750bbe5751\n",
      "\n",
      "\n",
      "C:\\Users\\anuma\\AppData\\Local\\Temp\\ipykernel_10512\\1129273297.py:8: UserWarning:\n",
      "\n",
      "\n",
      "\n",
      "`distplot` is a deprecated function and will be removed in seaborn v0.14.0.\n",
      "\n",
      "Please adapt your code to use either `displot` (a figure-level function with\n",
      "similar flexibility) or `histplot` (an axes-level function for histograms).\n",
      "\n",
      "For a guide to updating your code to use the new functions, please see\n",
      "https://gist.github.com/mwaskom/de44147ed2974457ad6372750bbe5751\n",
      "\n",
      "\n"
     ]
    },
    {
     "data": {
      "image/png": "[encoded data removed]",
      "text/plain": [
       "<Figure size 1200x1000 with 3 Axes>"
      ]
     },
     "metadata": {},
     "output_type": "display_data"
    }
   ],
   "source": [
    "# Plot RFM distributions\n",
    "plt.figure(figsize=(12,10))\n",
    "# Plot distribution of R\n",
    "plt.subplot(3, 1, 1); sns.distplot(df['Recency'])\n",
    "# Plot distribution of F\n",
    "plt.subplot(3, 1, 2); sns.distplot(df['Frequency'])\n",
    "# Plot distribution of M\n",
    "plt.subplot(3, 1, 3); sns.distplot(df['MonetaryValue'])\n",
    "# Show the plot\n",
    "plt.show()"
   ]
  },
  {
   "cell_type": "code",
   "execution_count": 18,
   "id": "a88632ba",
   "metadata": {},
   "outputs": [
    {
     "data": {
      "text/html": [
       "<div>\n",
       "<style scoped>\n",
       "    .dataframe tbody tr th:only-of-type {\n",
       "        vertical-align: middle;\n",
       "    }\n",
       "\n",
       "    .dataframe tbody tr th {\n",
       "        vertical-align: top;\n",
       "    }\n",
       "\n",
       "    .dataframe thead th {\n",
       "        text-align: right;\n",
       "    }\n",
       "</style>\n",
       "<table border=\"1\" class=\"dataframe\">\n",
       "  <thead>\n",
       "    <tr style=\"text-align: right;\">\n",
       "      <th></th>\n",
       "      <th>Recency</th>\n",
       "      <th>Frequency</th>\n",
       "      <th>MonetaryValue</th>\n",
       "      <th>R</th>\n",
       "      <th>F</th>\n",
       "    </tr>\n",
       "    <tr>\n",
       "      <th>CustomerKey</th>\n",
       "      <th></th>\n",
       "      <th></th>\n",
       "      <th></th>\n",
       "      <th></th>\n",
       "      <th></th>\n",
       "    </tr>\n",
       "  </thead>\n",
       "  <tbody>\n",
       "    <tr>\n",
       "      <th>11000</th>\n",
       "      <td>271</td>\n",
       "      <td>8</td>\n",
       "      <td>8248.99</td>\n",
       "      <td>1</td>\n",
       "      <td>4</td>\n",
       "    </tr>\n",
       "    <tr>\n",
       "      <th>11001</th>\n",
       "      <td>50</td>\n",
       "      <td>11</td>\n",
       "      <td>6383.88</td>\n",
       "      <td>4</td>\n",
       "      <td>4</td>\n",
       "    </tr>\n",
       "    <tr>\n",
       "      <th>11002</th>\n",
       "      <td>340</td>\n",
       "      <td>4</td>\n",
       "      <td>8114.04</td>\n",
       "      <td>1</td>\n",
       "      <td>3</td>\n",
       "    </tr>\n",
       "    <tr>\n",
       "      <th>11003</th>\n",
       "      <td>264</td>\n",
       "      <td>9</td>\n",
       "      <td>8139.29</td>\n",
       "      <td>2</td>\n",
       "      <td>4</td>\n",
       "    </tr>\n",
       "    <tr>\n",
       "      <th>11004</th>\n",
       "      <td>273</td>\n",
       "      <td>6</td>\n",
       "      <td>8196.01</td>\n",
       "      <td>1</td>\n",
       "      <td>4</td>\n",
       "    </tr>\n",
       "  </tbody>\n",
       "</table>\n",
       "</div>"
      ],
      "text/plain": [
       "             Recency  Frequency  MonetaryValue  R  F\n",
       "CustomerKey                                         \n",
       "11000            271          8        8248.99  1  4\n",
       "11001             50         11        6383.88  4  4\n",
       "11002            340          4        8114.04  1  3\n",
       "11003            264          9        8139.29  2  4\n",
       "11004            273          6        8196.01  1  4"
      ]
     },
     "execution_count": 18,
     "metadata": {},
     "output_type": "execute_result"
    }
   ],
   "source": [
    "\n",
    "# Create labels for Recency and Frequency\n",
    "r_labels = range(4, 0, -1); f_labels = range(1, 5)\n",
    "# Assign these labels to 4 equal percentile groups \n",
    "r_groups = pd.qcut(df['Recency'], q=4, labels=r_labels)\n",
    "# Assign these labels to 4 equal percentile groups \n",
    "f_groups = pd.qcut(df['Frequency'], q=4, labels=f_labels)\n",
    "# Create new columns R and F \n",
    "df = df.assign(R = r_groups.values, F = f_groups.values)\n",
    "df.head()"
   ]
  },
  {
   "cell_type": "code",
   "execution_count": 19,
   "id": "facd3adb",
   "metadata": {},
   "outputs": [],
   "source": [
    "# Create labels for MonetaryValue\n",
    "m_labels = range(1, 5)\n",
    "# Assign these labels to three equal percentile groups \n",
    "m_groups = pd.qcut(df['MonetaryValue'], q=4, labels=m_labels)\n",
    "# Create new column M\n",
    "df = df.assign(M = m_groups.values)"
   ]
  },
  {
   "cell_type": "code",
   "execution_count": 20,
   "id": "776cd306",
   "metadata": {},
   "outputs": [
    {
     "data": {
      "text/html": [
       "<div>\n",
       "<style scoped>\n",
       "    .dataframe tbody tr th:only-of-type {\n",
       "        vertical-align: middle;\n",
       "    }\n",
       "\n",
       "    .dataframe tbody tr th {\n",
       "        vertical-align: top;\n",
       "    }\n",
       "\n",
       "    .dataframe thead th {\n",
       "        text-align: right;\n",
       "    }\n",
       "</style>\n",
       "<table border=\"1\" class=\"dataframe\">\n",
       "  <thead>\n",
       "    <tr style=\"text-align: right;\">\n",
       "      <th></th>\n",
       "      <th>Recency</th>\n",
       "      <th>Frequency</th>\n",
       "      <th>MonetaryValue</th>\n",
       "      <th>R</th>\n",
       "      <th>F</th>\n",
       "      <th>M</th>\n",
       "      <th>RFM_Segment_Concat</th>\n",
       "    </tr>\n",
       "    <tr>\n",
       "      <th>CustomerKey</th>\n",
       "      <th></th>\n",
       "      <th></th>\n",
       "      <th></th>\n",
       "      <th></th>\n",
       "      <th></th>\n",
       "      <th></th>\n",
       "      <th></th>\n",
       "    </tr>\n",
       "  </thead>\n",
       "  <tbody>\n",
       "    <tr>\n",
       "      <th>11000</th>\n",
       "      <td>271</td>\n",
       "      <td>8</td>\n",
       "      <td>8248.99</td>\n",
       "      <td>1</td>\n",
       "      <td>4</td>\n",
       "      <td>4</td>\n",
       "      <td>1.04.04.0</td>\n",
       "    </tr>\n",
       "    <tr>\n",
       "      <th>11001</th>\n",
       "      <td>50</td>\n",
       "      <td>11</td>\n",
       "      <td>6383.88</td>\n",
       "      <td>4</td>\n",
       "      <td>4</td>\n",
       "      <td>4</td>\n",
       "      <td>4.04.04.0</td>\n",
       "    </tr>\n",
       "    <tr>\n",
       "      <th>11002</th>\n",
       "      <td>340</td>\n",
       "      <td>4</td>\n",
       "      <td>8114.04</td>\n",
       "      <td>1</td>\n",
       "      <td>3</td>\n",
       "      <td>4</td>\n",
       "      <td>1.03.04.0</td>\n",
       "    </tr>\n",
       "    <tr>\n",
       "      <th>11003</th>\n",
       "      <td>264</td>\n",
       "      <td>9</td>\n",
       "      <td>8139.29</td>\n",
       "      <td>2</td>\n",
       "      <td>4</td>\n",
       "      <td>4</td>\n",
       "      <td>2.04.04.0</td>\n",
       "    </tr>\n",
       "    <tr>\n",
       "      <th>11004</th>\n",
       "      <td>273</td>\n",
       "      <td>6</td>\n",
       "      <td>8196.01</td>\n",
       "      <td>1</td>\n",
       "      <td>4</td>\n",
       "      <td>4</td>\n",
       "      <td>1.04.04.0</td>\n",
       "    </tr>\n",
       "  </tbody>\n",
       "</table>\n",
       "</div>"
      ],
      "text/plain": [
       "             Recency  Frequency  MonetaryValue  R  F  M RFM_Segment_Concat\n",
       "CustomerKey                                                               \n",
       "11000            271          8        8248.99  1  4  4          1.04.04.0\n",
       "11001             50         11        6383.88  4  4  4          4.04.04.0\n",
       "11002            340          4        8114.04  1  3  4          1.03.04.0\n",
       "11003            264          9        8139.29  2  4  4          2.04.04.0\n",
       "11004            273          6        8196.01  1  4  4          1.04.04.0"
      ]
     },
     "execution_count": 20,
     "metadata": {},
     "output_type": "execute_result"
    }
   ],
   "source": [
    "# Concat RFM quartile values to create RFM Segments\n",
    "def join_rfm(x): return str(x['R']) + str(x['F']) + str(x['M'])\n",
    "df['RFM_Segment_Concat'] = df.apply(join_rfm, axis=1)\n",
    "rfm = df\n",
    "rfm.head()"
   ]
  },
  {
   "cell_type": "code",
   "execution_count": 21,
   "id": "fbafbdb1",
   "metadata": {},
   "outputs": [
    {
     "name": "stdout",
     "output_type": "stream",
     "text": [
      "64\n"
     ]
    }
   ],
   "source": [
    "# Count num of unique segments\n",
    "rfm_count_unique = rfm.groupby('RFM_Segment_Concat')['RFM_Segment_Concat'].nunique()\n",
    "print(rfm_count_unique.sum())"
   ]
  },
  {
   "cell_type": "code",
   "execution_count": 22,
   "id": "0bef53c2",
   "metadata": {},
   "outputs": [
    {
     "name": "stdout",
     "output_type": "stream",
     "text": [
      "CustomerKey\n",
      "11000     9\n",
      "11001    12\n",
      "11002     8\n",
      "11003    10\n",
      "11004     9\n",
      "Name: RFM_Score, dtype: int64\n"
     ]
    }
   ],
   "source": [
    "# Calculate RFM_Score\n",
    "rfm['RFM_Score'] = rfm[['R','F','M']].sum(axis=1)\n",
    "print(rfm['RFM_Score'].head())"
   ]
  },
  {
   "cell_type": "code",
   "execution_count": 23,
   "id": "4411e769",
   "metadata": {},
   "outputs": [
    {
     "data": {
      "text/html": [
       "<div>\n",
       "<style scoped>\n",
       "    .dataframe tbody tr th:only-of-type {\n",
       "        vertical-align: middle;\n",
       "    }\n",
       "\n",
       "    .dataframe tbody tr th {\n",
       "        vertical-align: top;\n",
       "    }\n",
       "\n",
       "    .dataframe thead th {\n",
       "        text-align: right;\n",
       "    }\n",
       "</style>\n",
       "<table border=\"1\" class=\"dataframe\">\n",
       "  <thead>\n",
       "    <tr style=\"text-align: right;\">\n",
       "      <th></th>\n",
       "      <th>Recency</th>\n",
       "      <th>Frequency</th>\n",
       "      <th>MonetaryValue</th>\n",
       "      <th>R</th>\n",
       "      <th>F</th>\n",
       "      <th>M</th>\n",
       "      <th>RFM_Segment_Concat</th>\n",
       "      <th>RFM_Score</th>\n",
       "      <th>RFM_Level</th>\n",
       "    </tr>\n",
       "    <tr>\n",
       "      <th>CustomerKey</th>\n",
       "      <th></th>\n",
       "      <th></th>\n",
       "      <th></th>\n",
       "      <th></th>\n",
       "      <th></th>\n",
       "      <th></th>\n",
       "      <th></th>\n",
       "      <th></th>\n",
       "      <th></th>\n",
       "    </tr>\n",
       "  </thead>\n",
       "  <tbody>\n",
       "    <tr>\n",
       "      <th>11000</th>\n",
       "      <td>271</td>\n",
       "      <td>8</td>\n",
       "      <td>8248.99</td>\n",
       "      <td>1</td>\n",
       "      <td>4</td>\n",
       "      <td>4</td>\n",
       "      <td>1.04.04.0</td>\n",
       "      <td>9</td>\n",
       "      <td>Can't Loose Them</td>\n",
       "    </tr>\n",
       "    <tr>\n",
       "      <th>11001</th>\n",
       "      <td>50</td>\n",
       "      <td>11</td>\n",
       "      <td>6383.88</td>\n",
       "      <td>4</td>\n",
       "      <td>4</td>\n",
       "      <td>4</td>\n",
       "      <td>4.04.04.0</td>\n",
       "      <td>12</td>\n",
       "      <td>Can't Loose Them</td>\n",
       "    </tr>\n",
       "    <tr>\n",
       "      <th>11002</th>\n",
       "      <td>340</td>\n",
       "      <td>4</td>\n",
       "      <td>8114.04</td>\n",
       "      <td>1</td>\n",
       "      <td>3</td>\n",
       "      <td>4</td>\n",
       "      <td>1.03.04.0</td>\n",
       "      <td>8</td>\n",
       "      <td>Champions</td>\n",
       "    </tr>\n",
       "    <tr>\n",
       "      <th>11003</th>\n",
       "      <td>264</td>\n",
       "      <td>9</td>\n",
       "      <td>8139.29</td>\n",
       "      <td>2</td>\n",
       "      <td>4</td>\n",
       "      <td>4</td>\n",
       "      <td>2.04.04.0</td>\n",
       "      <td>10</td>\n",
       "      <td>Can't Loose Them</td>\n",
       "    </tr>\n",
       "    <tr>\n",
       "      <th>11004</th>\n",
       "      <td>273</td>\n",
       "      <td>6</td>\n",
       "      <td>8196.01</td>\n",
       "      <td>1</td>\n",
       "      <td>4</td>\n",
       "      <td>4</td>\n",
       "      <td>1.04.04.0</td>\n",
       "      <td>9</td>\n",
       "      <td>Can't Loose Them</td>\n",
       "    </tr>\n",
       "  </tbody>\n",
       "</table>\n",
       "</div>"
      ],
      "text/plain": [
       "             Recency  Frequency  MonetaryValue  R  F  M RFM_Segment_Concat  \\\n",
       "CustomerKey                                                                  \n",
       "11000            271          8        8248.99  1  4  4          1.04.04.0   \n",
       "11001             50         11        6383.88  4  4  4          4.04.04.0   \n",
       "11002            340          4        8114.04  1  3  4          1.03.04.0   \n",
       "11003            264          9        8139.29  2  4  4          2.04.04.0   \n",
       "11004            273          6        8196.01  1  4  4          1.04.04.0   \n",
       "\n",
       "             RFM_Score         RFM_Level  \n",
       "CustomerKey                               \n",
       "11000                9  Can't Loose Them  \n",
       "11001               12  Can't Loose Them  \n",
       "11002                8         Champions  \n",
       "11003               10  Can't Loose Them  \n",
       "11004                9  Can't Loose Them  "
      ]
     },
     "execution_count": 23,
     "metadata": {},
     "output_type": "execute_result"
    }
   ],
   "source": [
    "# Define rfm_level function\n",
    "def rfm_level(ds):\n",
    "    if ds['RFM_Score'] >= 9:\n",
    "        return 'Can\\'t Loose Them'\n",
    "    elif ((ds['RFM_Score'] >= 8) and (ds['RFM_Score'] < 9)):\n",
    "        return 'Champions'\n",
    "    elif ((ds['RFM_Score'] >= 7) and (ds['RFM_Score'] < 8)):\n",
    "        return 'Loyal'\n",
    "    elif ((ds['RFM_Score'] >= 6) and (ds['RFM_Score'] < 7)):\n",
    "        return 'Potential'\n",
    "    elif ((ds['RFM_Score'] >= 5) and (ds['RFM_Score'] < 6)):\n",
    "        return 'Promising'\n",
    "    elif ((ds['RFM_Score'] >= 4) and (ds['RFM_Score'] < 5)):\n",
    "        return 'Needs Attention'\n",
    "    else:\n",
    "        return 'Require Activation'\n",
    "# Create a new variable RFM_Level\n",
    "rfm['RFM_Level'] = rfm.apply(rfm_level, axis=1)\n",
    "# Print the header with top 5 rows to the console\n",
    "rfm.head()"
   ]
  },
  {
   "cell_type": "code",
   "execution_count": 24,
   "id": "d7a98d82",
   "metadata": {},
   "outputs": [
    {
     "name": "stdout",
     "output_type": "stream",
     "text": [
      "                   Recency Frequency MonetaryValue      \n",
      "                      mean      mean          mean count\n",
      "RFM_Level                                               \n",
      "Can't Loose Them     116.9       5.3        3318.5  5445\n",
      "Champions            151.3       3.3        1744.5  2515\n",
      "Loyal                178.0       2.9        1248.0  2508\n",
      "Needs Attention      255.7       1.9          39.4  1490\n",
      "Potential            235.1       2.2         830.9  3022\n",
      "Promising            258.4       2.0         473.5  2490\n",
      "Require Activation   315.3       1.6          22.9  1014\n"
     ]
    }
   ],
   "source": [
    "# Calculate average values for each RFM_Level, and return a size of each segment \n",
    "rfm_level_agg = rfm.groupby('RFM_Level').agg({\n",
    "    'Recency': 'mean',\n",
    "    'Frequency': 'mean',\n",
    "    'MonetaryValue': ['mean', 'count']\n",
    "}).round(1)\n",
    "# Print the aggregated dataset\n",
    "print(rfm_level_agg)"
   ]
  },
  {
   "cell_type": "code",
   "execution_count": 25,
   "id": "8f47f657",
   "metadata": {},
   "outputs": [
    {
     "data": {
      "image/png": "[encoded data removed]",
      "text/plain": [
       "<Figure size 1600x900 with 1 Axes>"
      ]
     },
     "metadata": {},
     "output_type": "display_data"
    }
   ],
   "source": [
    "rfm_level_agg.columns = rfm_level_agg.columns.droplevel()\n",
    "rfm_level_agg.columns = ['RecencyMean','FrequencyMean','MonetaryMean', 'Count']\n",
    "#Create our plot and resize it.\n",
    "fig = plt.gcf()\n",
    "ax = fig.add_subplot()\n",
    "fig.set_size_inches(16, 9)\n",
    "squarify.plot(sizes=rfm_level_agg['Count'], \n",
    "              label=['Can\\'t Loose Them',\n",
    "                     'Champions',\n",
    "                     'Loyal',\n",
    "                     'Needs Attention',\n",
    "                     'Potential', \n",
    "                     'Promising', \n",
    "                     'Require Activation'], alpha=.6 )\n",
    "plt.title(\"RFM Segments\",fontsize=18,fontweight=\"bold\")\n",
    "plt.axis('off')\n",
    "plt.show()\n"
   ]
  },
  {
   "cell_type": "code",
   "execution_count": null,
   "id": "290f3435",
   "metadata": {},
   "outputs": [],
   "source": [
    "# using this information, a company can segment customers based on their purchasing behavior, \n",
    "#providing insights for businesses to better understand and engage with their customers"
   ]
  },
  {
   "cell_type": "code",
   "execution_count": null,
   "id": "c70c25cf",
   "metadata": {},
   "outputs": [],
   "source": []
  },
  {
   "cell_type": "code",
   "execution_count": null,
   "id": "b88c8a07",
   "metadata": {},
   "outputs": [],
   "source": []
  },
  {
   "cell_type": "code",
   "execution_count": null,
   "id": "07fb87af",
   "metadata": {},
   "outputs": [],
   "source": []
  },
  {
   "cell_type": "code",
   "execution_count": null,
   "id": "3e495472",
   "metadata": {},
   "outputs": [],
   "source": []
  }
 ],
 "metadata": {
  "kernelspec": {
   "display_name": "Python 3 (ipykernel)",
   "language": "python",
   "name": "python3"
  },
  "language_info": {
   "codemirror_mode": {
    "name": "ipython",
    "version": 3
   },
   "file_extension": ".py",
   "mimetype": "text/x-python",
   "name": "python",
   "nbconvert_exporter": "python",
   "pygments_lexer": "ipython3",
   "version": "3.8.8"
  }
 },
 "nbformat": 4,
 "nbformat_minor": 5
}
